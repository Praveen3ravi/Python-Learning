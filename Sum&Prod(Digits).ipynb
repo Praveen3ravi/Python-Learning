{
  "nbformat": 4,
  "nbformat_minor": 0,
  "metadata": {
    "colab": {
      "name": "Sum&Prod(Digits).ipynb",
      "provenance": [],
      "collapsed_sections": [],
      "authorship_tag": "ABX9TyN/QY3hI2yd/J4j2CKvto3d",
      "include_colab_link": true
    },
    "kernelspec": {
      "name": "python3",
      "display_name": "Python 3"
    },
    "language_info": {
      "name": "python"
    }
  },
  "cells": [
    {
      "cell_type": "markdown",
      "metadata": {
        "id": "view-in-github",
        "colab_type": "text"
      },
      "source": [
        "<a href=\"https://colab.research.google.com/github/Praveen3ravi/Python-Learning/blob/main/Sum%26Prod(Digits).ipynb\" target=\"_parent\"><img src=\"https://colab.research.google.com/assets/colab-badge.svg\" alt=\"Open In Colab\"/></a>"
      ]
    },
    {
      "cell_type": "markdown",
      "metadata": {
        "id": "BsjWIIGCrBZX"
      },
      "source": [
        "You are given a number ‘n’. You have to tell whether a number is great or not. A great number is a number whose sum of digits let (m) and product of digits let(j) when summed together gives the number back\n",
        "\n",
        "m+j=n\n",
        "\n",
        " \n",
        "\n",
        "Input Description:\n",
        "You are given a number n;\n",
        "\n",
        "Output Description:\n",
        "Print Great if a number is great else print the no\n",
        "\n",
        "Sample Input :\n",
        "59\n",
        "Sample Output :\n",
        "Great"
      ]
    },
    {
      "cell_type": "code",
      "metadata": {
        "id": "sxn_2ZQg4nUH",
        "colab": {
          "base_uri": "https://localhost:8080/"
        },
        "outputId": "497bb933-83ef-430b-90a2-5cbad3b70253"
      },
      "source": [
        "import numpy as np\n",
        "a=input()\n",
        "l=len(str(a))\n",
        "# print(l)\n",
        "if l==2:\n",
        "    s=int(a[0])+int(a[1])\n",
        "    m=int(a[0])*int(a[1])\n",
        "    res=s+m\n",
        "    if res==int(a):\n",
        "        print(\"Great\")\n",
        "    else:\n",
        "        print(\"No\")\n",
        "if l==3:\n",
        "    s=int(a[0])+int(a[1])+int(a[2])\n",
        "    m=int(a[0])*int(a[1]*int(a[2]))\n",
        "    res=s+m\n",
        "    if res==int(a):\n",
        "        print(\"Great\")\n",
        "    else:\n",
        "        print(\"No\")        "
      ],
      "execution_count": 21,
      "outputs": [
        {
          "output_type": "stream",
          "name": "stdout",
          "text": [
            "26\n",
            "No\n"
          ]
        }
      ]
    }
  ]
}