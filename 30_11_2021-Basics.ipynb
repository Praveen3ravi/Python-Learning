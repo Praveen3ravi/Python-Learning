{
  "nbformat": 4,
  "nbformat_minor": 0,
  "metadata": {
    "colab": {
      "name": "30-11-2021.ipynb",
      "provenance": [],
      "collapsed_sections": [],
      "authorship_tag": "ABX9TyND/uuVZVWvCgFg3n57BJcZ",
      "include_colab_link": true
    },
    "kernelspec": {
      "name": "python3",
      "display_name": "Python 3"
    },
    "language_info": {
      "name": "python"
    }
  },
  "cells": [
    {
      "cell_type": "markdown",
      "metadata": {
        "id": "view-in-github",
        "colab_type": "text"
      },
      "source": [
        "<a href=\"https://colab.research.google.com/github/Praveen3ravi/Python-Learning/blob/main/30_11_2021-Basics.ipynb\" target=\"_parent\"><img src=\"https://colab.research.google.com/assets/colab-badge.svg\" alt=\"Open In Colab\"/></a>"
      ]
    },
    {
      "cell_type": "code",
      "metadata": {
        "colab": {
          "base_uri": "https://localhost:8080/"
        },
        "id": "4vZ8LODqrBCz",
        "outputId": "b01d9162-71d4-49b6-8b49-ec75ee642d4d"
      },
      "source": [
        "a=12\n",
        "b=34\n",
        "a+=b\n",
        "print(a)"
      ],
      "execution_count": 1,
      "outputs": [
        {
          "output_type": "stream",
          "name": "stdout",
          "text": [
            "46\n"
          ]
        }
      ]
    },
    {
      "cell_type": "code",
      "metadata": {
        "colab": {
          "base_uri": "https://localhost:8080/"
        },
        "id": "UJNW2rzgQgOB",
        "outputId": "4066b43f-4e11-4b25-fcae-a9705a92c1e7"
      },
      "source": [
        "a=12\n",
        "b=34\n",
        "a-=b\n",
        "print(a)"
      ],
      "execution_count": 64,
      "outputs": [
        {
          "output_type": "stream",
          "name": "stdout",
          "text": [
            "-22\n"
          ]
        }
      ]
    },
    {
      "cell_type": "code",
      "metadata": {
        "colab": {
          "base_uri": "https://localhost:8080/"
        },
        "id": "iKUnNphMQgZn",
        "outputId": "3c7d6674-4c5c-41d9-bfb7-fdb869ff99c5"
      },
      "source": [
        "a=12\n",
        "b=34\n",
        "a/=b\n",
        "print(a)"
      ],
      "execution_count": 65,
      "outputs": [
        {
          "output_type": "stream",
          "name": "stdout",
          "text": [
            "0.35294117647058826\n"
          ]
        }
      ]
    },
    {
      "cell_type": "code",
      "metadata": {
        "colab": {
          "base_uri": "https://localhost:8080/"
        },
        "id": "vVvXDgx7QgiD",
        "outputId": "18e766b5-c563-484d-9110-d28279cdf39d"
      },
      "source": [
        "a=12\n",
        "b=34\n",
        "a*=b\n",
        "print(a)"
      ],
      "execution_count": 66,
      "outputs": [
        {
          "output_type": "stream",
          "name": "stdout",
          "text": [
            "408\n"
          ]
        }
      ]
    },
    {
      "cell_type": "code",
      "metadata": {
        "colab": {
          "base_uri": "https://localhost:8080/"
        },
        "id": "Aijx5H7Lxdwf",
        "outputId": "9334a507-2b27-4b42-cc77-eb777b823ca4"
      },
      "source": [
        "def fibo(n):\n",
        "  if n<=1:\n",
        "    return 1\n",
        "  else:\n",
        "    return n*sum(n-1)\n",
        "n=int(input())\n",
        "fibo(n)       "
      ],
      "execution_count": 3,
      "outputs": [
        {
          "name": "stdout",
          "output_type": "stream",
          "text": [
            "5\n"
          ]
        },
        {
          "output_type": "execute_result",
          "data": {
            "text/plain": [
              "120"
            ]
          },
          "metadata": {},
          "execution_count": 3
        }
      ]
    },
    {
      "cell_type": "code",
      "metadata": {
        "colab": {
          "base_uri": "https://localhost:8080/"
        },
        "id": "Hcreos6CPmoU",
        "outputId": "ecbc216a-d4ea-4492-e2d6-3817ea0c7955"
      },
      "source": [
        "n=int(input())\n",
        "def fiboo(n):\n",
        "  total=1\n",
        "  for i in range(total,n+1):\n",
        "    total*=i\n",
        "  return total\n",
        "fiboo(n)  "
      ],
      "execution_count": 61,
      "outputs": [
        {
          "name": "stdout",
          "output_type": "stream",
          "text": [
            "4\n"
          ]
        },
        {
          "output_type": "execute_result",
          "data": {
            "text/plain": [
              "24"
            ]
          },
          "metadata": {},
          "execution_count": 61
        }
      ]
    },
    {
      "cell_type": "code",
      "metadata": {
        "colab": {
          "base_uri": "https://localhost:8080/"
        },
        "id": "aRxbgNQmx-zl",
        "outputId": "b06a8ee6-fa45-4e87-db6a-272a8f0ec158"
      },
      "source": [
        "def sum(n):\n",
        "  if n==0:\n",
        "    return 0\n",
        "  else:\n",
        "    return n+sum(n-1)\n",
        "n=int(input())\n",
        "sum(n)      "
      ],
      "execution_count": 4,
      "outputs": [
        {
          "name": "stdout",
          "output_type": "stream",
          "text": [
            "5\n"
          ]
        },
        {
          "output_type": "execute_result",
          "data": {
            "text/plain": [
              "15"
            ]
          },
          "metadata": {},
          "execution_count": 4
        }
      ]
    },
    {
      "cell_type": "code",
      "metadata": {
        "colab": {
          "base_uri": "https://localhost:8080/"
        },
        "id": "B2yM6LFnyZl5",
        "outputId": "f92ae398-b4aa-4834-8bdc-8523968fb8d5"
      },
      "source": [
        "def mul(t,l):\n",
        "  for i in range(1,l+1):\n",
        "    print(t,'*',i,'=',i*t)\n",
        "t=int(input('Enter a table:'))\n",
        "l=int(input('Enter a limit:'))\n",
        "mul(t,l)    "
      ],
      "execution_count": 7,
      "outputs": [
        {
          "output_type": "stream",
          "name": "stdout",
          "text": [
            "Enter a table:5\n",
            "Enter a limit:10\n",
            "5 * 1 = 5\n",
            "5 * 2 = 10\n",
            "5 * 3 = 15\n",
            "5 * 4 = 20\n",
            "5 * 5 = 25\n",
            "5 * 6 = 30\n",
            "5 * 7 = 35\n",
            "5 * 8 = 40\n",
            "5 * 9 = 45\n",
            "5 * 10 = 50\n"
          ]
        }
      ]
    },
    {
      "cell_type": "code",
      "metadata": {
        "colab": {
          "base_uri": "https://localhost:8080/"
        },
        "id": "27qA-qlv9hhq",
        "outputId": "acef7358-c34a-43ad-924a-b81c53b518fc"
      },
      "source": [
        "# ZeroDivison Error,Name Error,Index Error,Value Error,Key Error,Attribute Error.\n",
        "# Tottlay 153 Error type is there.\n",
        "try:\n",
        "  # a=int(input())\n",
        "  # b=int(input())\n",
        "  # c=a/b\n",
        "  d={'Name':'Praveen','Age':23,'Place':'Kotagiri'}\n",
        "  print(d['Address']) \n",
        "except ZeroDivisionError as z:\n",
        "  print(\"ZeroDivisionError:\",z)\n",
        "except KeyError as k:\n",
        "  print('KeyError',k) "
      ],
      "execution_count": 20,
      "outputs": [
        {
          "output_type": "stream",
          "name": "stdout",
          "text": [
            "KeyError 'Address'\n"
          ]
        }
      ]
    },
    {
      "cell_type": "code",
      "metadata": {
        "colab": {
          "base_uri": "https://localhost:8080/"
        },
        "id": "ltBiCPRuDlwS",
        "outputId": "bc1a9cb0-a542-4eb7-84aa-a494b923bdec"
      },
      "source": [
        "#input='abcd'\n",
        "'''\n",
        "abcd=\n",
        "a ab abc abcd - [0:4]\n",
        "b bc bcd - [1:4]\n",
        "c cd - [2:4]\n",
        "d - [3:4]\n",
        "'''\n",
        "#SUB-STRING\n",
        "n=input()\n",
        "for i in range(len(n)):\n",
        "  for j in range(i+1,len(n)+1):\n",
        "    print(n[i:j],end=' ')\n",
        "  print()  "
      ],
      "execution_count": 26,
      "outputs": [
        {
          "output_type": "stream",
          "name": "stdout",
          "text": [
            "abcd\n",
            "a ab abc abcd \n",
            "b bc bcd \n",
            "c cd \n",
            "d \n"
          ]
        }
      ]
    },
    {
      "cell_type": "code",
      "metadata": {
        "colab": {
          "base_uri": "https://localhost:8080/"
        },
        "id": "FMe-yZBoFBNz",
        "outputId": "9a52b88e-4817-4609-9855-30af5d6d0d41"
      },
      "source": [
        "n=input()\n",
        "for i in range(1):\n",
        "  for j in range(i+1,len(n)+1):\n",
        "    print(n[i:j],end='\\n')\n",
        "  print()  "
      ],
      "execution_count": 30,
      "outputs": [
        {
          "output_type": "stream",
          "name": "stdout",
          "text": [
            "123456\n",
            "1\n",
            "12\n",
            "123\n",
            "1234\n",
            "12345\n",
            "123456\n",
            "\n"
          ]
        }
      ]
    },
    {
      "cell_type": "code",
      "metadata": {
        "colab": {
          "base_uri": "https://localhost:8080/"
        },
        "id": "WsSvoMKWGBuF",
        "outputId": "45e524a5-a727-453d-c099-47b30fb2f665"
      },
      "source": [
        "n=int(input())\n",
        "x=[i for i in range(n+1) if i%2==0]\n",
        "print(\"Even:\",x )"
      ],
      "execution_count": 37,
      "outputs": [
        {
          "output_type": "stream",
          "name": "stdout",
          "text": [
            "231\n",
            "Even: [0, 2, 4, 6, 8, 10, 12, 14, 16, 18, 20, 22, 24, 26, 28, 30, 32, 34, 36, 38, 40, 42, 44, 46, 48, 50, 52, 54, 56, 58, 60, 62, 64, 66, 68, 70, 72, 74, 76, 78, 80, 82, 84, 86, 88, 90, 92, 94, 96, 98, 100, 102, 104, 106, 108, 110, 112, 114, 116, 118, 120, 122, 124, 126, 128, 130, 132, 134, 136, 138, 140, 142, 144, 146, 148, 150, 152, 154, 156, 158, 160, 162, 164, 166, 168, 170, 172, 174, 176, 178, 180, 182, 184, 186, 188, 190, 192, 194, 196, 198, 200, 202, 204, 206, 208, 210, 212, 214, 216, 218, 220, 222, 224, 226, 228, 230]\n"
          ]
        }
      ]
    },
    {
      "cell_type": "code",
      "metadata": {
        "colab": {
          "base_uri": "https://localhost:8080/"
        },
        "id": "Z_moKDlHN9OZ",
        "outputId": "c193190b-d159-456a-ea0e-5e42093c0186"
      },
      "source": [
        "def intt(a,b):\n",
        "  print(a*b)\n",
        "intt(5,6)  "
      ],
      "execution_count": 38,
      "outputs": [
        {
          "output_type": "stream",
          "name": "stdout",
          "text": [
            "30\n"
          ]
        }
      ]
    },
    {
      "cell_type": "code",
      "metadata": {
        "colab": {
          "base_uri": "https://localhost:8080/"
        },
        "id": "M3c13_YmOXsA",
        "outputId": "2f2dbcab-f2b9-4b41-e4a9-8d391773d887"
      },
      "source": [
        "a=[1,2,3,5,6,8,9,40]\n",
        "def single_astrix(*a):\n",
        "  print(a)\n",
        "single_astrix(1,2,3,5,6,8,9,40)   "
      ],
      "execution_count": 67,
      "outputs": [
        {
          "output_type": "stream",
          "name": "stdout",
          "text": [
            "(1, 2, 3, 5, 6, 8, 9, 40)\n"
          ]
        }
      ]
    },
    {
      "cell_type": "code",
      "metadata": {
        "colab": {
          "base_uri": "https://localhost:8080/"
        },
        "id": "U3E4G4nBRTgF",
        "outputId": "784a3085-d45f-44f8-a2f4-a7d62e6d28b6"
      },
      "source": [
        "def double_astrix(**a):\n",
        "  print(a['Name'])\n",
        "double_astrix(Name=\"Praveen Ravi\",Age=23,Address=\"Kotagiri\")  "
      ],
      "execution_count": 72,
      "outputs": [
        {
          "output_type": "stream",
          "name": "stdout",
          "text": [
            "Praveen Ravi\n"
          ]
        }
      ]
    },
    {
      "cell_type": "code",
      "metadata": {
        "colab": {
          "base_uri": "https://localhost:8080/"
        },
        "id": "mktKNNAoTerH",
        "outputId": "82f05294-9ce7-4fe7-8e89-8613fd1142cb"
      },
      "source": [
        "g=15\n",
        "def sum(a):\n",
        "  global g\n",
        "  return g*a\n",
        "sum(5)  "
      ],
      "execution_count": 74,
      "outputs": [
        {
          "output_type": "execute_result",
          "data": {
            "text/plain": [
              "75"
            ]
          },
          "metadata": {},
          "execution_count": 74
        }
      ]
    },
    {
      "cell_type": "code",
      "metadata": {
        "colab": {
          "base_uri": "https://localhost:8080/",
          "height": 35
        },
        "id": "qnsrMQkDTwDM",
        "outputId": "6e6aabbc-c23f-4e22-f492-aec8e2f839e5"
      },
      "source": [
        "def fizz_buzz(input):\n",
        "  if input%3==0 and input%5==0:\n",
        "    return 'Fizz_Buzz'\n",
        "  if input%3==0:\n",
        "    return 'Fizz'\n",
        "  if input%5==0:\n",
        "    return 'Buzz'  \n",
        "  return input \n",
        "fizz_buzz(15)     "
      ],
      "execution_count": 88,
      "outputs": [
        {
          "output_type": "execute_result",
          "data": {
            "application/vnd.google.colaboratory.intrinsic+json": {
              "type": "string"
            },
            "text/plain": [
              "'Fizz_Buzz'"
            ]
          },
          "metadata": {},
          "execution_count": 88
        }
      ]
    },
    {
      "cell_type": "markdown",
      "metadata": {
        "id": "5CvnYrTjaC5r"
      },
      "source": [
        "# ***Lambda('Anonymous Function')***\n",
        "## lambda x,y(We can give as many arguments we want):x*y(But only one expression)\n",
        "## lambda arguments(>1):expression(==1) "
      ]
    },
    {
      "cell_type": "code",
      "metadata": {
        "colab": {
          "base_uri": "https://localhost:8080/"
        },
        "id": "L0IhQh1uWWxQ",
        "outputId": "8243c319-154d-45f8-e4ae-c4775578e693"
      },
      "source": [
        "#Anonymous Function\n",
        "x=15\n",
        "y=25\n",
        "b=lambda x,y: x**y\n",
        "print(b)"
      ],
      "execution_count": 97,
      "outputs": [
        {
          "output_type": "stream",
          "name": "stdout",
          "text": [
            "<function <lambda> at 0x7f2afbedfdd0>\n"
          ]
        }
      ]
    },
    {
      "cell_type": "markdown",
      "metadata": {
        "id": "1r3CoEFiaJkh"
      },
      "source": [
        "# ***map(lambda,sequence)***"
      ]
    },
    {
      "cell_type": "code",
      "metadata": {
        "colab": {
          "base_uri": "https://localhost:8080/"
        },
        "id": "WD_NC0JaYkTt",
        "outputId": "3e64b45c-b043-4556-c8cf-ee61c894db98"
      },
      "source": [
        "# map(func,sequence)\n",
        "a=[1,2,3,4,5,6,7,8,9,10]\n",
        "list(map(lambda x:x**2,a))"
      ],
      "execution_count": 104,
      "outputs": [
        {
          "output_type": "execute_result",
          "data": {
            "text/plain": [
              "[1, 4, 9, 16, 25, 36, 49, 64, 81, 100]"
            ]
          },
          "metadata": {},
          "execution_count": 104
        }
      ]
    },
    {
      "cell_type": "code",
      "metadata": {
        "colab": {
          "base_uri": "https://localhost:8080/"
        },
        "id": "XuPObHwiZWnK",
        "outputId": "bbef5080-b873-4716-ecf6-f9abd4c20f98"
      },
      "source": [
        "a=[1,2,3,4,5,6,7,8,9,10]\n",
        "b=[11,22,33,44,55,66,77,88,99,111]\n",
        "tuple(map(lambda x,y:(x*y+5),a,b))"
      ],
      "execution_count": 108,
      "outputs": [
        {
          "output_type": "execute_result",
          "data": {
            "text/plain": [
              "(16, 49, 104, 181, 280, 401, 544, 709, 896, 1115)"
            ]
          },
          "metadata": {},
          "execution_count": 108
        }
      ]
    },
    {
      "cell_type": "markdown",
      "metadata": {
        "id": "Bo4jYNOUbPAc"
      },
      "source": [
        "# ***Filter(lambda,iter(1))***\n",
        "## Only one iterable."
      ]
    },
    {
      "cell_type": "code",
      "metadata": {
        "colab": {
          "base_uri": "https://localhost:8080/"
        },
        "id": "mXMWNgkAcTtP",
        "outputId": "b3117927-eebc-4fc3-8ddb-82ab7a2783a0"
      },
      "source": [
        "filter(lambda x,y:x*10,a)"
      ],
      "execution_count": 111,
      "outputs": [
        {
          "output_type": "execute_result",
          "data": {
            "text/plain": [
              "<filter at 0x7f2afbe8b950>"
            ]
          },
          "metadata": {},
          "execution_count": 111
        }
      ]
    },
    {
      "cell_type": "code",
      "metadata": {
        "colab": {
          "base_uri": "https://localhost:8080/"
        },
        "id": "EmaUXLu1cnF-",
        "outputId": "4dede872-0f62-4867-f991-e6fa6b5d7dcf"
      },
      "source": [
        "list(filter(lambda x:x%10==0,range(0,101)))"
      ],
      "execution_count": 116,
      "outputs": [
        {
          "output_type": "execute_result",
          "data": {
            "text/plain": [
              "[0, 10, 20, 30, 40, 50, 60, 70, 80, 90, 100]"
            ]
          },
          "metadata": {},
          "execution_count": 116
        }
      ]
    },
    {
      "cell_type": "markdown",
      "metadata": {
        "id": "s9oJB09YeXDd"
      },
      "source": [
        "# ***Reduce(func,iter(1))***\n",
        "## Reduce a list to its sum/product...."
      ]
    },
    {
      "cell_type": "code",
      "metadata": {
        "id": "mwh5jDmGejXV"
      },
      "source": [
        "from functools import reduce"
      ],
      "execution_count": 118,
      "outputs": []
    },
    {
      "cell_type": "code",
      "metadata": {
        "colab": {
          "base_uri": "https://localhost:8080/"
        },
        "id": "AdvWgGcOepwi",
        "outputId": "454bc60b-239d-4263-9a4b-af0c29a9897d"
      },
      "source": [
        "a=[1,2,3,4,5,6,7,8,9,10]\n",
        "# n=int(input())\n",
        "reduce(lambda x,y:x*y,a)  # range() doesn't work."
      ],
      "execution_count": 137,
      "outputs": [
        {
          "output_type": "execute_result",
          "data": {
            "text/plain": [
              "3628800"
            ]
          },
          "metadata": {},
          "execution_count": 137
        }
      ]
    }
  ]
}